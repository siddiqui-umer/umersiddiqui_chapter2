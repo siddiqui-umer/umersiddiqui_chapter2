{
 "cells": [
  {
   "cell_type": "markdown",
   "metadata": {},
   "source": [
    "# 2.1"
   ]
  },
  {
   "cell_type": "code",
   "execution_count": 1,
   "metadata": {},
   "outputs": [
    {
     "name": "stdout",
     "output_type": "stream",
     "text": [
      "15\n"
     ]
    }
   ],
   "source": [
    "# A\n",
    "a = 1 + 2 + 3 + 4 + 5\n",
    "print(a)"
   ]
  },
  {
   "cell_type": "code",
   "execution_count": 2,
   "metadata": {},
   "outputs": [
    {
     "name": "stdout",
     "output_type": "stream",
     "text": [
      "24.333333333333332\n"
     ]
    }
   ],
   "source": [
    "# B\n",
    "a = (23 + 19 + 31) / 3\n",
    "print(a)"
   ]
  },
  {
   "cell_type": "code",
   "execution_count": 3,
   "metadata": {},
   "outputs": [
    {
     "name": "stdout",
     "output_type": "stream",
     "text": [
      "5\n"
     ]
    }
   ],
   "source": [
    "# C\n",
    "a = 403 // 73\n",
    "print(a)"
   ]
  },
  {
   "cell_type": "code",
   "execution_count": 4,
   "metadata": {},
   "outputs": [
    {
     "name": "stdout",
     "output_type": "stream",
     "text": [
      "38\n"
     ]
    }
   ],
   "source": [
    "# D\n",
    "a = 403 % 73\n",
    "print(a)"
   ]
  },
  {
   "cell_type": "code",
   "execution_count": 7,
   "metadata": {},
   "outputs": [
    {
     "name": "stdout",
     "output_type": "stream",
     "text": [
      "1024\n"
     ]
    }
   ],
   "source": [
    "# E\n",
    "a = 2**10\n",
    "print(a)"
   ]
  },
  {
   "cell_type": "code",
   "execution_count": 6,
   "metadata": {},
   "outputs": [
    {
     "name": "stdout",
     "output_type": "stream",
     "text": [
      "3\n"
     ]
    }
   ],
   "source": [
    "# F\n",
    "a = abs(54 - 57)\n",
    "print(a)"
   ]
  },
  {
   "cell_type": "code",
   "execution_count": 8,
   "metadata": {},
   "outputs": [
    {
     "name": "stdout",
     "output_type": "stream",
     "text": [
      "29.95\n"
     ]
    }
   ],
   "source": [
    "# G\n",
    "a = min(34.99 , 29.95 , 31.5)\n",
    "print(a)"
   ]
  },
  {
   "cell_type": "markdown",
   "metadata": {},
   "source": [
    "# 2.2"
   ]
  },
  {
   "cell_type": "code",
   "execution_count": 10,
   "metadata": {},
   "outputs": [
    {
     "name": "stdout",
     "output_type": "stream",
     "text": [
      "False\n"
     ]
    }
   ],
   "source": [
    "# A\n",
    "a = 2+2 < 4\n",
    "print (a)"
   ]
  },
  {
   "cell_type": "code",
   "execution_count": 11,
   "metadata": {},
   "outputs": [
    {
     "name": "stdout",
     "output_type": "stream",
     "text": [
      "True\n"
     ]
    }
   ],
   "source": [
    "# B\n",
    "a = (7 // 3) == 1 + 1\n",
    "print (a)"
   ]
  },
  {
   "cell_type": "code",
   "execution_count": 13,
   "metadata": {},
   "outputs": [
    {
     "name": "stdout",
     "output_type": "stream",
     "text": [
      "True\n"
     ]
    }
   ],
   "source": [
    "# C\n",
    "a = 3**2 + 4**2 == 25\n",
    "print (a)"
   ]
  },
  {
   "cell_type": "code",
   "execution_count": 14,
   "metadata": {},
   "outputs": [
    {
     "name": "stdout",
     "output_type": "stream",
     "text": [
      "False\n"
     ]
    }
   ],
   "source": [
    "# D\n",
    "a = ( 2 + 4 + 6)>12 \n",
    "print(a)"
   ]
  },
  {
   "cell_type": "code",
   "execution_count": 105,
   "metadata": {},
   "outputs": [
    {
     "name": "stdout",
     "output_type": "stream",
     "text": [
      "True\n"
     ]
    }
   ],
   "source": [
    "# E\n",
    "a = 1387 % 19 == 0\n",
    "print(a)"
   ]
  },
  {
   "cell_type": "code",
   "execution_count": 16,
   "metadata": {},
   "outputs": [
    {
     "name": "stdout",
     "output_type": "stream",
     "text": [
      "False\n"
     ]
    }
   ],
   "source": [
    "# F\n",
    "a = 31 % 2 == 0\n",
    "print(a)"
   ]
  },
  {
   "cell_type": "code",
   "execution_count": 17,
   "metadata": {},
   "outputs": [
    {
     "name": "stdout",
     "output_type": "stream",
     "text": [
      "True\n"
     ]
    }
   ],
   "source": [
    "# G\n",
    "a = min(34.99 , 29.95 , 31.5) < 30.00\n",
    "print(a)"
   ]
  },
  {
   "cell_type": "markdown",
   "metadata": {},
   "source": [
    "# 2.3"
   ]
  },
  {
   "cell_type": "code",
   "execution_count": 18,
   "metadata": {},
   "outputs": [
    {
     "name": "stdout",
     "output_type": "stream",
     "text": [
      "25\n"
     ]
    }
   ],
   "source": [
    "a = 3 \n",
    "b = 4\n",
    "c = a*a + b*b\n",
    "print(c)"
   ]
  },
  {
   "cell_type": "markdown",
   "metadata": {},
   "source": [
    "# 2.4"
   ]
  },
  {
   "cell_type": "code",
   "execution_count": 31,
   "metadata": {},
   "outputs": [
    {
     "name": "stdout",
     "output_type": "stream",
     "text": [
      "ant bat cod\n",
      "ant ant ant ant ant ant ant ant ant ant \n",
      "ant bat bat cod cod cod \n",
      "ant bat ant bat ant bat ant bat ant bat ant bat ant bat \n",
      "batbatcod batbatcod batbatcod batbatcod batbatcod \n"
     ]
    }
   ],
   "source": [
    "s1 = 'ant'\n",
    "s2 = 'bat'\n",
    "s3 = 'cod'\n",
    "\n",
    "# A\n",
    "print(s1 +\" \"+ s2 +\" \"+ s3)\n",
    "\n",
    "# B\n",
    "print (10*(s1 + \" \"))\n",
    "\n",
    "# C\n",
    "print(s1 +\" \" + 2*(s2+\" \") + 3*(s3+\" \"))\n",
    "\n",
    "# D\n",
    "print(7 * (s1 + \" \" + s2 + \" \"))\n",
    "\n",
    "# E\n",
    "print(5 * (2*s2 + s3 + \" \"))"
   ]
  },
  {
   "cell_type": "markdown",
   "metadata": {},
   "source": [
    "# 2.5"
   ]
  },
  {
   "cell_type": "code",
   "execution_count": 32,
   "metadata": {},
   "outputs": [
    {
     "name": "stdout",
     "output_type": "stream",
     "text": [
      "0\n",
      "1\n",
      "6\n",
      "8\n",
      "9\n"
     ]
    }
   ],
   "source": [
    "s = '0123456789'\n",
    "\n",
    "# A\n",
    "print(s[0])\n",
    "\n",
    "# B\n",
    "print(s[1])\n",
    "\n",
    "# C\n",
    "print(s[6])\n",
    "\n",
    "# D\n",
    "print(s[8])\n",
    "\n",
    "# E\n",
    "print(s[9])"
   ]
  },
  {
   "cell_type": "markdown",
   "metadata": {},
   "source": [
    "# 2.6\n"
   ]
  },
  {
   "cell_type": "code",
   "execution_count": 33,
   "metadata": {},
   "outputs": [
    {
     "name": "stdout",
     "output_type": "stream",
     "text": [
      "badminton\n",
      "bat\n"
     ]
    }
   ],
   "source": [
    "words = ['bat' , 'ball' , 'barn' , 'basket' , 'badminton']\n",
    "\n",
    "# A\n",
    "print (min (words))\n",
    "\n",
    "# B\n",
    "print (max (words))"
   ]
  },
  {
   "cell_type": "markdown",
   "metadata": {},
   "source": [
    "# 2.7"
   ]
  },
  {
   "cell_type": "code",
   "execution_count": 42,
   "metadata": {},
   "outputs": [
    {
     "name": "stdout",
     "output_type": "stream",
     "text": [
      "2\n",
      "[9, 7, 7, 10, 3, 9, 6, 6, 4]\n",
      "10\n",
      "[3, 4, 6, 6, 7, 7, 9, 9, 10]\n",
      "6.777777777777778\n"
     ]
    }
   ],
   "source": [
    "grades = [9,7,7,10,3,9,6,6,2]\n",
    "\n",
    "# A\n",
    "print(grades.count(7))\n",
    "\n",
    "# B\n",
    "grades[-1]=4\n",
    "print(grades)\n",
    "\n",
    "# C\n",
    "print(max(grades))\n",
    "\n",
    "# D\n",
    "grades.sort()\n",
    "print(grades)\n",
    "\n",
    "# E \n",
    "print(sum(grades) / len(grades))"
   ]
  },
  {
   "cell_type": "markdown",
   "metadata": {},
   "source": [
    "# 2.8"
   ]
  },
  {
   "cell_type": "code",
   "execution_count": 47,
   "metadata": {},
   "outputs": [
    {
     "name": "stdout",
     "output_type": "stream",
     "text": [
      "((2+3)==4) or (a>=5)\n",
      "(((lst[1])*(-3)<(-10))) == 0\n",
      "(((lst[1])*(-3)<(-10))) in[0 ,True]\n",
      "2*(3**2)\n",
      "(4/2) in [1,2,3]\n"
     ]
    }
   ],
   "source": [
    "# A\n",
    "print('((2+3)==4) or (a>=5)')\n",
    "# B\n",
    "print(\"(((lst[1])*(-3)<(-10))) == 0\")\n",
    "# C\n",
    "print(\"(((lst[1])*(-3)<(-10))) in[0 ,True]\")\n",
    "# D\n",
    "print(\"2*(3**2)\")      \n",
    "# E\n",
    "print (\"(4/2) in [1,2,3]\")"
   ]
  },
  {
   "cell_type": "markdown",
   "metadata": {},
   "source": [
    "# 2.9\n"
   ]
  },
  {
   "cell_type": "code",
   "execution_count": 53,
   "metadata": {},
   "outputs": [
    {
     "name": "stdout",
     "output_type": "stream",
     "text": [
      "<class 'int'>\n",
      "<class 'float'>\n",
      "<class 'int'>\n",
      "<class 'bool'>\n"
     ]
    }
   ],
   "source": [
    "# A\n",
    "a = False + False\n",
    "print (type(a))\n",
    "# B \n",
    "b = 2* (3**2.0)\n",
    "print(type(b))\n",
    "# C\n",
    "c = 4 // 2 + 4 % 2\n",
    "print(type(c))\n",
    "# D\n",
    "d = 2 + 3 == 4 or 5 >= 5\n",
    "print(type(d))"
   ]
  },
  {
   "cell_type": "markdown",
   "metadata": {},
   "source": [
    "# 2.10"
   ]
  },
  {
   "cell_type": "code",
   "execution_count": 54,
   "metadata": {},
   "outputs": [
    {
     "name": "stdout",
     "output_type": "stream",
     "text": [
      "7.810249675906654\n",
      "False\n",
      "78.53981633974483\n",
      "False\n"
     ]
    }
   ],
   "source": [
    "from math import sqrt, pi\n",
    "a = 5\n",
    "b = 6\n",
    "x = 7\n",
    "y = 9\n",
    "r = 2\n",
    "#A\n",
    "print(sqrt(a**2 + b**2))\n",
    "\n",
    "#B\n",
    "print(sqrt(a**2 + b**2) == 5)\n",
    "\n",
    "#C\n",
    "print(pi * a**2)\n",
    "\n",
    "#D\n",
    "print((x-a)**2 + (y-b)**2 < r**2)"
   ]
  },
  {
   "cell_type": "markdown",
   "metadata": {},
   "source": [
    "# 2.11"
   ]
  },
  {
   "cell_type": "code",
   "execution_count": 63,
   "metadata": {},
   "outputs": [
    {
     "name": "stdout",
     "output_type": "stream",
     "text": [
      "Sum : -28\n",
      "10.651685393258427\n",
      "2 to power -20 : 9.5367431640625e-07\n",
      "Number of times: 74\n",
      "Remainder: 22\n"
     ]
    }
   ],
   "source": [
    "# A\n",
    "lst=[-1,-2,-3,-4,-5,-6,-7]\n",
    "print(\"Sum :\",sum(lst))\n",
    "\n",
    "# B\n",
    "total_kids = 17 + 24 + 21 + 27\n",
    "age = (17*9) + (24*10) + (21*11) + (27*12)\n",
    "print(age / total_kids)\n",
    "\n",
    "# C\n",
    "print(\"2 to power -20 :\",2**-20)\n",
    "\n",
    "# D\n",
    "a = 4536\n",
    "b = 61\n",
    "divide = a // b\n",
    "print(\"Number of times:\",divide)\n",
    "\n",
    "# E\n",
    "x = 4365\n",
    "y = 61\n",
    "print(\"Remainder:\",a % b)"
   ]
  },
  {
   "cell_type": "markdown",
   "metadata": {},
   "source": [
    "# 2.12"
   ]
  },
  {
   "cell_type": "code",
   "execution_count": 70,
   "metadata": {},
   "outputs": [
    {
     "name": "stdout",
     "output_type": "stream",
     "text": [
      "-+\n",
      "-+-\n",
      "+--\n",
      "+--+--\n",
      "+--+--+--+--+--+--+--+--+--+--+\n",
      "+--+--+--+--+--+--+--+--+--+--+\n",
      "+-+++--+-+++--+-+++--+-+++--+-+++--\n"
     ]
    }
   ],
   "source": [
    "s1 = '-'\n",
    "s2 = '+'\n",
    "# A\n",
    "print(s1+s2)\n",
    "\n",
    "# B\n",
    "print(s1+s2+s1)\n",
    "\n",
    "# C\n",
    "print(s2 + (s1*2))\n",
    "\n",
    "# D\n",
    "print(s2 + (s1*2) + s2 +(s1*2))\n",
    "\n",
    "# E\n",
    "print((s2 + (s1*2))*10 +s2)\n",
    "\n",
    "# F\n",
    "print((s2 + s1 + (s2*3) + (s1*2))*5)"
   ]
  },
  {
   "cell_type": "markdown",
   "metadata": {},
   "source": [
    "# 2.13"
   ]
  },
  {
   "cell_type": "code",
   "execution_count": 72,
   "metadata": {},
   "outputs": [
    {
     "name": "stdout",
     "output_type": "stream",
     "text": [
      "a\n",
      "c\n",
      "z\n",
      "y\n",
      "q\n"
     ]
    }
   ],
   "source": [
    "s = 'abcdefghijklmnopqrstuvwxyz'\n",
    "\n",
    "# A\n",
    "print(s[0])\n",
    "\n",
    "# B\n",
    "print(s[2])\n",
    "\n",
    "# C\n",
    "print(s[25])\n",
    "\n",
    "# D      \n",
    "print(s[24])\n",
    "      \n",
    "# E\n",
    "print(s[16])\n"
   ]
  },
  {
   "cell_type": "markdown",
   "metadata": {},
   "source": [
    "# 2.14"
   ]
  },
  {
   "cell_type": "code",
   "execution_count": 78,
   "metadata": {},
   "outputs": [
    {
     "name": "stdout",
     "output_type": "stream",
     "text": [
      "True\n",
      "False\n",
      "False\n",
      "False\n",
      "True\n",
      "False\n",
      "False\n"
     ]
    }
   ],
   "source": [
    "s = 'goodbye'\n",
    "\n",
    "# A\n",
    "print(s[0] == 'g')\n",
    "\n",
    "# B\n",
    "print(s[6] == 'g')\n",
    "\n",
    "# C\n",
    "print(s[0] == 'g' and s[1] == 'a')\n",
    "\n",
    "# D\n",
    "print(s[-5] == 'x')\n",
    "\n",
    "\n",
    "# E\n",
    "print(s[3] == 'd')\n",
    "\n",
    "# F\n",
    "print(s[0] == s[6])\n",
    "\n",
    "# G\n",
    "print(s[3:7] == 'tion')\n",
    "\n"
   ]
  },
  {
   "cell_type": "markdown",
   "metadata": {},
   "source": [
    "# 2.15"
   ]
  },
  {
   "cell_type": "code",
   "execution_count": 87,
   "metadata": {},
   "outputs": [
    {
     "name": "stdout",
     "output_type": "stream",
     "text": [
      "anachronistically\n",
      "['misinterpretation', 'misrepresentation']\n",
      "Not found\n",
      "Yes, They are equal\n"
     ]
    }
   ],
   "source": [
    "# A\n",
    "a = len(\"anachronistically\")\n",
    "b = len(\"counterintuitive\")\n",
    "\n",
    "if a > b:\n",
    "    print(\"anachronistically\")\n",
    "else:\n",
    "    print(\"counterintuitive\")\n",
    "\n",
    "# B\n",
    "words = ['misrepresentation' , 'misinterpretation']\n",
    "a = words.sort()\n",
    "print(words)\n",
    "\n",
    "# C\n",
    "c = \"floccinaucinihilipilification\"\n",
    "to_find = \"e\"\n",
    "if to_find in c:\n",
    "    print(\"Found\")\n",
    "else:\n",
    "    print(\"Not found\")\n",
    "\n",
    "# D\n",
    "A = len(\"counterrevolution\")\n",
    "B = len(\"Counter\")\n",
    "C = len(\"Resolution\")\n",
    "total_sum = B + C\n",
    "if A == total_sum:\n",
    "    print(\"Yes, They are equal\")\n",
    "else:\n",
    "    print(\"No, They are not equal\")"
   ]
  },
  {
   "cell_type": "markdown",
   "metadata": {},
   "source": [
    "# 2.16"
   ]
  },
  {
   "cell_type": "code",
   "execution_count": 90,
   "metadata": {},
   "outputs": [
    {
     "name": "stdout",
     "output_type": "stream",
     "text": [
      "6.5\n",
      "['paper', 'staples', 'pencils']\n",
      "John Fitzgerald Kenndy\n"
     ]
    }
   ],
   "source": [
    "# A\n",
    "a = 6\n",
    "b = 7\n",
    "\n",
    "# B\n",
    "c =(a + b) / 2\n",
    "print (c)\n",
    "\n",
    "# C\n",
    "orignal_list = ['paper','staples','pencils']\n",
    "inventory = list(orignal_list)\n",
    "print(inventory)\n",
    "\n",
    "# D\n",
    "first = str('John')\n",
    "middle = str('Fitzgerald')\n",
    "last = str('Kenndy')\n",
    "\n",
    "# E\n",
    "fullname = str(first + \" \" + middle + \" \" + last)\n",
    "print(fullname)\n"
   ]
  },
  {
   "cell_type": "markdown",
   "metadata": {},
   "source": [
    "# 2.17 "
   ]
  },
  {
   "cell_type": "code",
   "execution_count": 104,
   "metadata": {},
   "outputs": [
    {
     "name": "stdout",
     "output_type": "stream",
     "text": [
      "True\n",
      "False\n",
      "True\n",
      "False\n",
      "False\n",
      "True\n"
     ]
    }
   ],
   "source": [
    "a = 6\n",
    "b = 7\n",
    "c = float(a+b) / 2\n",
    "inventory = ['paper ', 'staples ', 'pencils ']\n",
    "first = str('John')\n",
    "middle = str('Fitzgerald')\n",
    "last = str('Kennedy')\n",
    "fullname = (first + \" \" + middle + \" \" + last)\n",
    "\n",
    "# A\n",
    "print(17-9 < 10)\n",
    "\n",
    "# B\n",
    "print(len(inventory) > len(5 * fullname))\n",
    "\n",
    "# C\n",
    "print(c != 24)\n",
    "\n",
    "# D\n",
    "print(a <= 6.75 >= b)\n",
    "\n",
    "# E \n",
    "print(len(middle) > len(first) and len(middle) < len(first))\n",
    "\n",
    "# F\n",
    "print(inventory == 0 or inventory != 10)"
   ]
  },
  {
   "cell_type": "markdown",
   "metadata": {},
   "source": [
    "# 2.18"
   ]
  },
  {
   "cell_type": "code",
   "execution_count": 106,
   "metadata": {},
   "outputs": [
    {
     "name": "stdout",
     "output_type": "stream",
     "text": [
      "['rose', 'bougainvillea']\n",
      "['lilly', 'of', 'the', 'valley']\n",
      "['rose', 'bougainvillea', 'lilly', 'of', 'the', 'valley']\n"
     ]
    }
   ],
   "source": [
    "# A\n",
    "flowers = ['rose', 'bougainvillea', 'yucca', 'marigold', 'daylilly', 'lilly of the valley', ]\n",
    "\n",
    "# B\n",
    "find = 'potato'\n",
    "if find in flowers:\n",
    "    print(bool('True'))\n",
    "\n",
    "# C\n",
    "thorny = flowers[0:2]\n",
    "print(thorny)\n",
    "\n",
    "# D\n",
    "poisonous = flowers[-1].split()\n",
    "print(poisonous)\n",
    "\n",
    "# E\n",
    "dangerous = thorny + poisonous\n",
    "print(dangerous)"
   ]
  },
  {
   "cell_type": "markdown",
   "metadata": {},
   "source": [
    "# 2.19"
   ]
  },
  {
   "cell_type": "code",
   "execution_count": 108,
   "metadata": {},
   "outputs": [
    {
     "name": "stdout",
     "output_type": "stream",
     "text": [
      "5\n",
      "6\n",
      "45.45454545454545 %\n",
      "['N', 'N', 'N', 'N', 'N', 'N', 'Y', 'Y', 'Y', 'Y', 'Y']\n",
      "6\n"
     ]
    }
   ],
   "source": [
    "answers = ['Y', 'N', 'N', 'Y', 'N', 'Y', 'Y', 'Y', 'N', 'N', 'N']\n",
    "\n",
    "# A\n",
    "numYes = answers.count('Y')\n",
    "print(numYes)\n",
    "# B\n",
    "numNo = answers.count('N')\n",
    "print(numNo)\n",
    "\n",
    "# C\n",
    "percentYes = (answers.count('Y') / len(answers)) * 100\n",
    "print(percentYes,'%')\n",
    "\n",
    "# D\n",
    "answers.sort()\n",
    "print(answers)\n",
    "\n",
    "# E\n",
    "f = answers.index('Y')\n",
    "print(f)"
   ]
  },
  {
   "cell_type": "markdown",
   "metadata": {},
   "source": [
    "# 2.20"
   ]
  },
  {
   "cell_type": "code",
   "execution_count": 109,
   "metadata": {},
   "outputs": [
    {
     "name": "stdout",
     "output_type": "stream",
     "text": [
      "rac\n"
     ]
    }
   ],
   "source": [
    "s1 = 'car'\n",
    "s2 = s1[::-1]\n",
    "print(s2)"
   ]
  },
  {
   "cell_type": "markdown",
   "metadata": {},
   "source": [
    "# 2.21"
   ]
  },
  {
   "cell_type": "code",
   "execution_count": 111,
   "metadata": {},
   "outputs": [
    {
     "name": "stdout",
     "output_type": "stream",
     "text": [
      "AU\n"
     ]
    }
   ],
   "source": [
    "s = 'Ubaid'\n",
    "t = 'Ali'\n",
    "print(str(t[0:1]) + str(s[0:1]))"
   ]
  },
  {
   "cell_type": "markdown",
   "metadata": {},
   "source": [
    "# 2.22"
   ]
  },
  {
   "cell_type": "code",
   "execution_count": 113,
   "metadata": {},
   "outputs": [
    {
     "name": "stdout",
     "output_type": "stream",
     "text": [
      "9\n"
     ]
    }
   ],
   "source": [
    "lst = [22, 54, 9, 24, -86, 25, 16]\n",
    "x = 25 - 16\n",
    "print(x)"
   ]
  },
  {
   "cell_type": "markdown",
   "metadata": {},
   "source": [
    "# 2.23"
   ]
  },
  {
   "cell_type": "code",
   "execution_count": 114,
   "metadata": {},
   "outputs": [
    {
     "name": "stdout",
     "output_type": "stream",
     "text": [
      "['jan', 'feb', 'mar', 'apr', 'may']\n"
     ]
    },
    {
     "ename": "AttributeError",
     "evalue": "'tuple' object has no attribute 'insert'",
     "output_type": "error",
     "traceback": [
      "\u001b[1;31m---------------------------------------------------------------------------\u001b[0m",
      "\u001b[1;31mAttributeError\u001b[0m                            Traceback (most recent call last)",
      "\u001b[1;32m<ipython-input-114-cef79f2393b4>\u001b[0m in \u001b[0;36m<module>\u001b[1;34m\u001b[0m\n\u001b[0;32m      6\u001b[0m \u001b[0mmonthL\u001b[0m\u001b[1;33m.\u001b[0m\u001b[0minsert\u001b[0m\u001b[1;33m(\u001b[0m\u001b[1;36m3\u001b[0m\u001b[1;33m,\u001b[0m \u001b[1;34m'apr'\u001b[0m\u001b[1;33m)\u001b[0m\u001b[1;33m\u001b[0m\u001b[1;33m\u001b[0m\u001b[0m\n\u001b[0;32m      7\u001b[0m \u001b[0mprint\u001b[0m\u001b[1;33m(\u001b[0m\u001b[0mmonthL\u001b[0m\u001b[1;33m)\u001b[0m\u001b[1;33m\u001b[0m\u001b[1;33m\u001b[0m\u001b[0m\n\u001b[1;32m----> 8\u001b[1;33m \u001b[0mmonthT\u001b[0m\u001b[1;33m.\u001b[0m\u001b[0minsert\u001b[0m\u001b[1;33m(\u001b[0m\u001b[1;36m3\u001b[0m\u001b[1;33m,\u001b[0m \u001b[1;34m'apr'\u001b[0m\u001b[1;33m)\u001b[0m\u001b[1;33m\u001b[0m\u001b[1;33m\u001b[0m\u001b[0m\n\u001b[0m\u001b[0;32m      9\u001b[0m \u001b[0mprint\u001b[0m\u001b[1;33m(\u001b[0m\u001b[0mmonthT\u001b[0m\u001b[1;33m)\u001b[0m\u001b[1;33m\u001b[0m\u001b[1;33m\u001b[0m\u001b[0m\n",
      "\u001b[1;31mAttributeError\u001b[0m: 'tuple' object has no attribute 'insert'"
     ]
    }
   ],
   "source": [
    "# A\n",
    "monthL = ['jan','feb','mar','may']\n",
    "monthT = ('jan','feb','mar','may')\n",
    "\n",
    "\n",
    "monthL.insert(3, 'apr')\n",
    "print(monthL)\n",
    "monthT.insert(3, 'apr')\n",
    "print(monthT)\n"
   ]
  },
  {
   "cell_type": "code",
   "execution_count": 115,
   "metadata": {},
   "outputs": [
    {
     "name": "stdout",
     "output_type": "stream",
     "text": [
      "['jan', 'feb', 'mar', 'may', 'jun']\n"
     ]
    },
    {
     "ename": "AttributeError",
     "evalue": "'tuple' object has no attribute 'append'",
     "output_type": "error",
     "traceback": [
      "\u001b[1;31m---------------------------------------------------------------------------\u001b[0m",
      "\u001b[1;31mAttributeError\u001b[0m                            Traceback (most recent call last)",
      "\u001b[1;32m<ipython-input-115-76bc65cf187d>\u001b[0m in \u001b[0;36m<module>\u001b[1;34m\u001b[0m\n\u001b[0;32m      5\u001b[0m \u001b[0mmonthL\u001b[0m\u001b[1;33m.\u001b[0m\u001b[0mappend\u001b[0m\u001b[1;33m(\u001b[0m\u001b[1;34m'jun'\u001b[0m\u001b[1;33m)\u001b[0m\u001b[1;33m\u001b[0m\u001b[1;33m\u001b[0m\u001b[0m\n\u001b[0;32m      6\u001b[0m \u001b[0mprint\u001b[0m\u001b[1;33m(\u001b[0m\u001b[0mmonthL\u001b[0m\u001b[1;33m)\u001b[0m\u001b[1;33m\u001b[0m\u001b[1;33m\u001b[0m\u001b[0m\n\u001b[1;32m----> 7\u001b[1;33m \u001b[0mmonthT\u001b[0m\u001b[1;33m.\u001b[0m\u001b[0mappend\u001b[0m\u001b[1;33m(\u001b[0m\u001b[1;34m'jun'\u001b[0m\u001b[1;33m)\u001b[0m\u001b[1;33m\u001b[0m\u001b[1;33m\u001b[0m\u001b[0m\n\u001b[0m\u001b[0;32m      8\u001b[0m \u001b[0mprint\u001b[0m\u001b[1;33m(\u001b[0m\u001b[0mmonthT\u001b[0m\u001b[1;33m)\u001b[0m\u001b[1;33m\u001b[0m\u001b[1;33m\u001b[0m\u001b[0m\n",
      "\u001b[1;31mAttributeError\u001b[0m: 'tuple' object has no attribute 'append'"
     ]
    }
   ],
   "source": [
    "# B\n",
    "monthL = ['jan','feb','mar','may']\n",
    "monthT = ('jan','feb','mar','may')\n",
    "\n",
    "monthL.append('jun')\n",
    "print(monthL)\n",
    "monthT.append('jun')\n",
    "print(monthT)"
   ]
  },
  {
   "cell_type": "code",
   "execution_count": 116,
   "metadata": {},
   "outputs": [
    {
     "name": "stdout",
     "output_type": "stream",
     "text": [
      "['jan', 'feb', 'mar']\n"
     ]
    },
    {
     "ename": "AttributeError",
     "evalue": "'tuple' object has no attribute 'pop'",
     "output_type": "error",
     "traceback": [
      "\u001b[1;31m---------------------------------------------------------------------------\u001b[0m",
      "\u001b[1;31mAttributeError\u001b[0m                            Traceback (most recent call last)",
      "\u001b[1;32m<ipython-input-116-d52510f7fef5>\u001b[0m in \u001b[0;36m<module>\u001b[1;34m\u001b[0m\n\u001b[0;32m      6\u001b[0m \u001b[0mmonthL\u001b[0m\u001b[1;33m.\u001b[0m\u001b[0mpop\u001b[0m\u001b[1;33m(\u001b[0m\u001b[1;33m)\u001b[0m\u001b[1;33m\u001b[0m\u001b[1;33m\u001b[0m\u001b[0m\n\u001b[0;32m      7\u001b[0m \u001b[0mprint\u001b[0m\u001b[1;33m(\u001b[0m\u001b[0mmonthL\u001b[0m\u001b[1;33m)\u001b[0m\u001b[1;33m\u001b[0m\u001b[1;33m\u001b[0m\u001b[0m\n\u001b[1;32m----> 8\u001b[1;33m \u001b[0mmonthT\u001b[0m\u001b[1;33m.\u001b[0m\u001b[0mpop\u001b[0m\u001b[1;33m(\u001b[0m\u001b[1;33m)\u001b[0m\u001b[1;33m\u001b[0m\u001b[1;33m\u001b[0m\u001b[0m\n\u001b[0m\u001b[0;32m      9\u001b[0m \u001b[0mprint\u001b[0m\u001b[1;33m(\u001b[0m\u001b[0mmonthT\u001b[0m\u001b[1;33m)\u001b[0m\u001b[1;33m\u001b[0m\u001b[1;33m\u001b[0m\u001b[0m\n",
      "\u001b[1;31mAttributeError\u001b[0m: 'tuple' object has no attribute 'pop'"
     ]
    }
   ],
   "source": [
    "# C\n",
    "monthL = ['jan','feb','mar','may']\n",
    "monthT = ('jan','feb','mar','may')\n",
    "\n",
    "\n",
    "monthL.pop()\n",
    "print(monthL)\n",
    "monthT.pop()\n",
    "print(monthT)"
   ]
  },
  {
   "cell_type": "code",
   "execution_count": 117,
   "metadata": {},
   "outputs": [
    {
     "name": "stdout",
     "output_type": "stream",
     "text": [
      "['jan', 'mar', 'may']\n"
     ]
    },
    {
     "ename": "AttributeError",
     "evalue": "'tuple' object has no attribute 'remove'",
     "output_type": "error",
     "traceback": [
      "\u001b[1;31m---------------------------------------------------------------------------\u001b[0m",
      "\u001b[1;31mAttributeError\u001b[0m                            Traceback (most recent call last)",
      "\u001b[1;32m<ipython-input-117-e3139092e2b4>\u001b[0m in \u001b[0;36m<module>\u001b[1;34m\u001b[0m\n\u001b[0;32m      6\u001b[0m \u001b[0mmonthL\u001b[0m\u001b[1;33m.\u001b[0m\u001b[0mremove\u001b[0m\u001b[1;33m(\u001b[0m\u001b[1;34m'feb'\u001b[0m\u001b[1;33m)\u001b[0m\u001b[1;33m\u001b[0m\u001b[1;33m\u001b[0m\u001b[0m\n\u001b[0;32m      7\u001b[0m \u001b[0mprint\u001b[0m\u001b[1;33m(\u001b[0m\u001b[0mmonthL\u001b[0m\u001b[1;33m)\u001b[0m\u001b[1;33m\u001b[0m\u001b[1;33m\u001b[0m\u001b[0m\n\u001b[1;32m----> 8\u001b[1;33m \u001b[0mmonthT\u001b[0m\u001b[1;33m.\u001b[0m\u001b[0mremove\u001b[0m\u001b[1;33m(\u001b[0m\u001b[1;34m'feb'\u001b[0m\u001b[1;33m)\u001b[0m\u001b[1;33m\u001b[0m\u001b[1;33m\u001b[0m\u001b[0m\n\u001b[0m\u001b[0;32m      9\u001b[0m \u001b[0mprint\u001b[0m\u001b[1;33m(\u001b[0m\u001b[0mmonthT\u001b[0m\u001b[1;33m)\u001b[0m\u001b[1;33m\u001b[0m\u001b[1;33m\u001b[0m\u001b[0m\n",
      "\u001b[1;31mAttributeError\u001b[0m: 'tuple' object has no attribute 'remove'"
     ]
    }
   ],
   "source": [
    "# D\n",
    "monthL = ['jan','feb','mar','may']\n",
    "monthT = ('jan','feb','mar','may')\n",
    "\n",
    "\n",
    "monthL.remove('feb')\n",
    "print(monthL)\n",
    "monthT.remove('feb')\n",
    "print(monthT)"
   ]
  },
  {
   "cell_type": "code",
   "execution_count": 118,
   "metadata": {},
   "outputs": [
    {
     "name": "stdout",
     "output_type": "stream",
     "text": [
      "['may', 'mar', 'jan', 'feb']\n"
     ]
    },
    {
     "ename": "AttributeError",
     "evalue": "'tuple' object has no attribute 'sort'",
     "output_type": "error",
     "traceback": [
      "\u001b[1;31m---------------------------------------------------------------------------\u001b[0m",
      "\u001b[1;31mAttributeError\u001b[0m                            Traceback (most recent call last)",
      "\u001b[1;32m<ipython-input-118-016cd51aa833>\u001b[0m in \u001b[0;36m<module>\u001b[1;34m\u001b[0m\n\u001b[0;32m      6\u001b[0m \u001b[0mmonthL\u001b[0m\u001b[1;33m.\u001b[0m\u001b[0msort\u001b[0m\u001b[1;33m(\u001b[0m\u001b[0mreverse\u001b[0m \u001b[1;33m=\u001b[0m \u001b[1;32mTrue\u001b[0m\u001b[1;33m)\u001b[0m\u001b[1;33m\u001b[0m\u001b[1;33m\u001b[0m\u001b[0m\n\u001b[0;32m      7\u001b[0m \u001b[0mprint\u001b[0m\u001b[1;33m(\u001b[0m\u001b[0mmonthL\u001b[0m\u001b[1;33m)\u001b[0m\u001b[1;33m\u001b[0m\u001b[1;33m\u001b[0m\u001b[0m\n\u001b[1;32m----> 8\u001b[1;33m \u001b[0mmonthT\u001b[0m\u001b[1;33m.\u001b[0m\u001b[0msort\u001b[0m\u001b[1;33m(\u001b[0m\u001b[0mreverse\u001b[0m \u001b[1;33m=\u001b[0m \u001b[1;32mTrue\u001b[0m\u001b[1;33m)\u001b[0m\u001b[1;33m\u001b[0m\u001b[1;33m\u001b[0m\u001b[0m\n\u001b[0m\u001b[0;32m      9\u001b[0m \u001b[0mprint\u001b[0m\u001b[1;33m(\u001b[0m\u001b[0mmonthT\u001b[0m\u001b[1;33m)\u001b[0m\u001b[1;33m\u001b[0m\u001b[1;33m\u001b[0m\u001b[0m\n",
      "\u001b[1;31mAttributeError\u001b[0m: 'tuple' object has no attribute 'sort'"
     ]
    }
   ],
   "source": [
    "# E\n",
    "monthL = ['jan','feb','mar','may']\n",
    "monthT = ('jan','feb','mar','may')\n",
    "\n",
    "\n",
    "monthL.sort(reverse = True)\n",
    "print(monthL)\n",
    "monthT.sort(reverse = True)\n",
    "print(monthT)"
   ]
  },
  {
   "cell_type": "code",
   "execution_count": 119,
   "metadata": {},
   "outputs": [
    {
     "name": "stdout",
     "output_type": "stream",
     "text": [
      "['feb', 'jan', 'mar', 'may']\n"
     ]
    },
    {
     "ename": "AttributeError",
     "evalue": "'tuple' object has no attribute 'sort'",
     "output_type": "error",
     "traceback": [
      "\u001b[1;31m---------------------------------------------------------------------------\u001b[0m",
      "\u001b[1;31mAttributeError\u001b[0m                            Traceback (most recent call last)",
      "\u001b[1;32m<ipython-input-119-254381f5f611>\u001b[0m in \u001b[0;36m<module>\u001b[1;34m\u001b[0m\n\u001b[0;32m      6\u001b[0m \u001b[0mmonthL\u001b[0m\u001b[1;33m.\u001b[0m\u001b[0msort\u001b[0m\u001b[1;33m(\u001b[0m\u001b[1;33m)\u001b[0m\u001b[1;33m\u001b[0m\u001b[1;33m\u001b[0m\u001b[0m\n\u001b[0;32m      7\u001b[0m \u001b[0mprint\u001b[0m\u001b[1;33m(\u001b[0m\u001b[0mmonthL\u001b[0m\u001b[1;33m)\u001b[0m\u001b[1;33m\u001b[0m\u001b[1;33m\u001b[0m\u001b[0m\n\u001b[1;32m----> 8\u001b[1;33m \u001b[0mmonthT\u001b[0m\u001b[1;33m.\u001b[0m\u001b[0msort\u001b[0m\u001b[1;33m(\u001b[0m\u001b[1;33m)\u001b[0m\u001b[1;33m\u001b[0m\u001b[1;33m\u001b[0m\u001b[0m\n\u001b[0m\u001b[0;32m      9\u001b[0m \u001b[0mprint\u001b[0m\u001b[1;33m(\u001b[0m\u001b[0mmonthT\u001b[0m\u001b[1;33m)\u001b[0m\u001b[1;33m\u001b[0m\u001b[1;33m\u001b[0m\u001b[0m\n",
      "\u001b[1;31mAttributeError\u001b[0m: 'tuple' object has no attribute 'sort'"
     ]
    }
   ],
   "source": [
    "# F\n",
    "monthL = ['jan','feb','mar','may']\n",
    "monthT = ('jan','feb','mar','may')\n",
    "\n",
    "\n",
    "monthL.sort()\n",
    "print(monthL)\n",
    "monthT.sort()\n",
    "print(monthT)"
   ]
  },
  {
   "cell_type": "markdown",
   "metadata": {},
   "source": [
    "# 2.24"
   ]
  },
  {
   "cell_type": "code",
   "execution_count": 120,
   "metadata": {},
   "outputs": [
    {
     "name": "stdout",
     "output_type": "stream",
     "text": [
      "[3, 4, 3, 3, 1, 1]\n"
     ]
    }
   ],
   "source": [
    "grades = ['B' , 'A' , 'D' , 'C' , 'B' , 'A' , 'B' , 'D' , 'F' , 'D' , 'A' , 'C' , 'B' , 'C' , 'E']\n",
    "\n",
    "count = [grades.count('A'), grades.count('B'), grades.count('C'), grades.count('D'), grades.count('E'), grades.count('F')]\n",
    "print(count)"
   ]
  },
  {
   "cell_type": "markdown",
   "metadata": {},
   "source": [
    "# 2.25"
   ]
  },
  {
   "cell_type": "code",
   "execution_count": 121,
   "metadata": {},
   "outputs": [
    {
     "name": "stdout",
     "output_type": "stream",
     "text": [
      "[3, 4, 3, 3, 1, 1]\n"
     ]
    }
   ],
   "source": [
    "grades = ('B' , 'A' , 'D' , 'C' , 'B' , 'A' , 'B' , 'D' , 'F' , 'D' , 'A' , 'C' , 'B' , 'C' , 'E')\n",
    "\n",
    "count = [grades.count('A'), grades.count('B'), grades.count('C'), grades.count('D'), grades.count('E'), grades.count('F')]\n",
    "print(count)"
   ]
  },
  {
   "cell_type": "markdown",
   "metadata": {},
   "source": [
    "# 2.26"
   ]
  },
  {
   "cell_type": "code",
   "execution_count": 123,
   "metadata": {},
   "outputs": [
    {
     "name": "stdout",
     "output_type": "stream",
     "text": [
      "True\n",
      "True\n",
      "True\n",
      "True\n"
     ]
    }
   ],
   "source": [
    "# A\n",
    "x = 0\n",
    "y = 0\n",
    "if x <= 10 and y <=10 :\n",
    "    print (\"True\")\n",
    "else: \n",
    "    print (\"False\")\n",
    "    \n",
    "    \n",
    "# B\n",
    "x = 10\n",
    "y = 10\n",
    "if x <= 10 and y <=10 :\n",
    "    print (\"True\")\n",
    "else: \n",
    "    print (\"False\")\n",
    "    \n",
    "    \n",
    "# C\n",
    "x = 6\n",
    "y = -6\n",
    "if x <= 10 and y <=10 :\n",
    "    print (\"True\")\n",
    "else: \n",
    "    print (\"False\")    \n",
    "    \n",
    "    \n",
    "# D\n",
    "x = -7\n",
    "y = 8\n",
    "if x <= 10 and y <=10 :\n",
    "    print (\"True\")\n",
    "else: \n",
    "    print (\"False\")    "
   ]
  },
  {
   "cell_type": "markdown",
   "metadata": {},
   "source": [
    "# 2.27"
   ]
  },
  {
   "cell_type": "code",
   "execution_count": 128,
   "metadata": {},
   "outputs": [
    {
     "name": "stdout",
     "output_type": "stream",
     "text": [
      "15.454813220625093 meters\n",
      "0.0 meters\n",
      "16.970562748477143 meters\n",
      "23.63538607229299 meters\n"
     ]
    }
   ],
   "source": [
    "from math import pi\n",
    "from math import sin\n",
    "\n",
    "# For 16 feet and 75 degrees\n",
    "length_1 = 16\n",
    "degree_1 = 75\n",
    "radian_1 = (pi * degree_1)/180\n",
    "height_1 = length_1 * sin(radian_1)\n",
    "print (height_1 , \"meters\")\n",
    "\n",
    "# For 20 feet and 0 degrees\n",
    "length_2 = 20\n",
    "degree_2 = 0\n",
    "radian_2 = (pi * degree_2)/180\n",
    "height_2 = length_2 * sin(radian_2)\n",
    "print (height_2,\"meters\")\n",
    "\n",
    "# For 24 feet and 45 degrees\n",
    "length_3 = 24\n",
    "degree_3 = 45\n",
    "radian_3 = (pi * degree_3)/180\n",
    "height_3 = length_3 * sin(radian_3)\n",
    "print (height_3,\"meters\")\n",
    "\n",
    "# For 24 feet and 80 degrees\n",
    "length_4 = 24\n",
    "degree_4 = 80\n",
    "radian_4 = (pi * degree_4)/180\n",
    "height_4 = length_4 * sin(radian_4)\n",
    "print (height_4,\"meters\")"
   ]
  },
  {
   "cell_type": "markdown",
   "metadata": {},
   "source": [
    "# 2.28"
   ]
  },
  {
   "cell_type": "code",
   "execution_count": 129,
   "metadata": {},
   "outputs": [
    {
     "name": "stdout",
     "output_type": "stream",
     "text": [
      "[78, 54, 9, 24, 85, 37, 45, 65]\n",
      "4.0\n",
      "Middle value is : 85\n",
      "[85, 78, 65, 54, 45, 37, 24, 9]\n",
      "[85, 65, 54, 45, 37, 24, 9]\n",
      "[85, 65, 54, 45, 37, 24, 9, 78]\n"
     ]
    }
   ],
   "source": [
    "lst = [78, 54, 9, 24, 85, 37, 45, 65]\n",
    "print(lst)\n",
    "\n",
    "#PART A\n",
    "list_length = len(lst)\n",
    "mid_index = (list_length) /2\n",
    "print (mid_index)\n",
    "\n",
    "#PART B\n",
    "print (\"Middle value is : \"+ str(lst[4]) )\n",
    "\n",
    "#PART C\n",
    "lst.sort(reverse = True)\n",
    "print(lst)\n",
    "\n",
    "#PART D\n",
    "lst.remove(78)\n",
    "print(lst)\n",
    "\n",
    "lst.extend([78])\n",
    "print(lst)\n"
   ]
  },
  {
   "cell_type": "markdown",
   "metadata": {},
   "source": [
    "# 2.29"
   ]
  },
  {
   "cell_type": "code",
   "execution_count": 132,
   "metadata": {},
   "outputs": [
    {
     "name": "stdout",
     "output_type": "stream",
     "text": [
      "True\n",
      "True\n",
      "True\n"
     ]
    }
   ],
   "source": [
    "#A\n",
    "print (0 == (1 == 2))   #Since false = 0\n",
    "\n",
    "# B\n",
    "print(2 + (3 == 4) + 5 == 7) #Because 3 == 4 is false, term becomes(2+0+5==7)\n",
    "\n",
    "# C\n",
    "print((1 < -1) == (3 > 4)) #Since both are False \n",
    "\n"
   ]
  },
  {
   "cell_type": "markdown",
   "metadata": {},
   "source": [
    "# 2.30\n",
    "\n",
    "\n",
    "\n",
    "\n",
    "\n",
    "\n",
    "\n"
   ]
  },
  {
   "cell_type": "code",
   "execution_count": 135,
   "metadata": {},
   "outputs": [
    {
     "name": "stdout",
     "output_type": "stream",
     "text": [
      "Conversion in list: ['One', 'down', 'two', 'more', 'assignments', 'to', 'go', 'and', 'its', 'already', '4:50', 'AM.']\n"
     ]
    }
   ],
   "source": [
    "string = 'One down two more assignments to go and its already 4:50 AM.'\n",
    "print('Conversion in list:',string.split())\n",
    "\n",
    " #split function helps us in coverting a string into a list, it produces a list by taking substrings from string 'string' "
   ]
  },
  {
   "cell_type": "markdown",
   "metadata": {},
   "source": [
    "# 2.31"
   ]
  },
  {
   "cell_type": "code",
   "execution_count": 136,
   "metadata": {},
   "outputs": [
    {
     "name": "stdout",
     "output_type": "stream",
     "text": [
      "[2, 3, 4, 5, 6]\n",
      "[2, 3, 4, 5, 6]\n",
      "[]\n"
     ]
    }
   ],
   "source": [
    "lst = [2, 3, 4]\n",
    "lst.extend ([5, 6]) \n",
    "print(lst)\n",
    "#lst.extend() adds value at the end of the list \n",
    "\n",
    "lst2 = lst.copy() \n",
    "print(lst2)\n",
    "# lst.copy() copies the list and stores it in a temporary variable\n",
    "\n",
    "lst.clear()\n",
    "print(lst)\n",
    "#lst.clear() deletes everything present in the list \n"
   ]
  },
  {
   "cell_type": "code",
   "execution_count": null,
   "metadata": {},
   "outputs": [],
   "source": []
  }
 ],
 "metadata": {
  "kernelspec": {
   "display_name": "Python 3",
   "language": "python",
   "name": "python3"
  },
  "language_info": {
   "codemirror_mode": {
    "name": "ipython",
    "version": 3
   },
   "file_extension": ".py",
   "mimetype": "text/x-python",
   "name": "python",
   "nbconvert_exporter": "python",
   "pygments_lexer": "ipython3",
   "version": "3.7.4"
  }
 },
 "nbformat": 4,
 "nbformat_minor": 2
}
